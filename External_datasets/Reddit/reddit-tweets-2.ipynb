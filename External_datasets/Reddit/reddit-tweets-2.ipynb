{
 "cells": [
  {
   "cell_type": "code",
   "execution_count": 1,
   "id": "c6984a92",
   "metadata": {
    "execution": {
     "iopub.execute_input": "2023-08-16T19:51:31.392795Z",
     "iopub.status.busy": "2023-08-16T19:51:31.391975Z",
     "iopub.status.idle": "2023-08-16T19:52:54.114754Z",
     "shell.execute_reply": "2023-08-16T19:52:54.113679Z"
    },
    "id": "4LgdBJlMt4x6",
    "papermill": {
     "duration": 82.736306,
     "end_time": "2023-08-16T19:52:54.117140",
     "exception": false,
     "start_time": "2023-08-16T19:51:31.380834",
     "status": "completed"
    },
    "scrolled": true,
    "tags": []
   },
   "outputs": [
    {
     "name": "stdout",
     "output_type": "stream",
     "text": [
      "Collecting visualkeras\r\n",
      "  Downloading visualkeras-0.0.2-py3-none-any.whl (12 kB)\r\n",
      "Requirement already satisfied: numpy>=1.18.1 in /usr/local/lib/python3.8/site-packages (from visualkeras) (1.23.5)\r\n",
      "Collecting aggdraw>=1.3.11\r\n",
      "  Downloading aggdraw-1.3.16-cp38-cp38-manylinux_2_17_x86_64.manylinux2014_x86_64.whl (992 kB)\r\n",
      "\u001b[2K     \u001b[90m━━━━━━━━━━━━━━━━━━━━━━━━━━━━━━━━━━━━━━\u001b[0m \u001b[32m992.0/992.0 kB\u001b[0m \u001b[31m13.2 MB/s\u001b[0m eta \u001b[36m0:00:00\u001b[0m\r\n",
      "\u001b[?25hRequirement already satisfied: pillow>=6.2.0 in /usr/local/lib/python3.8/site-packages (from visualkeras) (10.0.0)\r\n",
      "Installing collected packages: aggdraw, visualkeras\r\n",
      "Successfully installed aggdraw-1.3.16 visualkeras-0.0.2\r\n",
      "\u001b[33mWARNING: Running pip as the 'root' user can result in broken permissions and conflicting behaviour with the system package manager. It is recommended to use a virtual environment instead: https://pip.pypa.io/warnings/venv\u001b[0m\u001b[33m\r\n",
      "\u001b[0m\r\n",
      "\u001b[1m[\u001b[0m\u001b[34;49mnotice\u001b[0m\u001b[1;39;49m]\u001b[0m\u001b[39;49m A new release of pip is available: \u001b[0m\u001b[31;49m23.0.1\u001b[0m\u001b[39;49m -> \u001b[0m\u001b[32;49m23.2.1\u001b[0m\r\n",
      "\u001b[1m[\u001b[0m\u001b[34;49mnotice\u001b[0m\u001b[1;39;49m]\u001b[0m\u001b[39;49m To update, run: \u001b[0m\u001b[32;49mpip install --upgrade pip\u001b[0m\r\n",
      "Collecting seaborn\r\n",
      "  Downloading seaborn-0.12.2-py3-none-any.whl (293 kB)\r\n",
      "\u001b[2K     \u001b[90m━━━━━━━━━━━━━━━━━━━━━━━━━━━━━━━━━━━━━━━\u001b[0m \u001b[32m293.3/293.3 kB\u001b[0m \u001b[31m5.1 MB/s\u001b[0m eta \u001b[36m0:00:00\u001b[0m\r\n",
      "\u001b[?25hCollecting plotly\r\n",
      "  Downloading plotly-5.16.1-py2.py3-none-any.whl (15.6 MB)\r\n",
      "\u001b[2K     \u001b[90m━━━━━━━━━━━━━━━━━━━━━━━━━━━━━━━━━━━━━━━━\u001b[0m \u001b[32m15.6/15.6 MB\u001b[0m \u001b[31m31.8 MB/s\u001b[0m eta \u001b[36m0:00:00\u001b[0m\r\n",
      "\u001b[?25hRequirement already satisfied: numpy!=1.24.0,>=1.17 in /usr/local/lib/python3.8/site-packages (from seaborn) (1.23.5)\r\n",
      "Requirement already satisfied: matplotlib!=3.6.1,>=3.1 in /usr/local/lib/python3.8/site-packages (from seaborn) (3.7.2)\r\n",
      "Requirement already satisfied: pandas>=0.25 in /usr/local/lib/python3.8/site-packages (from seaborn) (2.0.3)\r\n",
      "Requirement already satisfied: packaging in /usr/local/lib/python3.8/site-packages (from plotly) (23.1)\r\n",
      "Requirement already satisfied: tenacity>=6.2.0 in /usr/local/lib/python3.8/site-packages (from plotly) (8.2.2)\r\n",
      "Requirement already satisfied: python-dateutil>=2.7 in /usr/local/lib/python3.8/site-packages (from matplotlib!=3.6.1,>=3.1->seaborn) (2.8.2)\r\n",
      "Requirement already satisfied: pyparsing<3.1,>=2.3.1 in /usr/local/lib/python3.8/site-packages (from matplotlib!=3.6.1,>=3.1->seaborn) (3.0.9)\r\n",
      "Requirement already satisfied: pillow>=6.2.0 in /usr/local/lib/python3.8/site-packages (from matplotlib!=3.6.1,>=3.1->seaborn) (10.0.0)\r\n",
      "Requirement already satisfied: contourpy>=1.0.1 in /usr/local/lib/python3.8/site-packages (from matplotlib!=3.6.1,>=3.1->seaborn) (1.1.0)\r\n",
      "Requirement already satisfied: importlib-resources>=3.2.0 in /usr/local/lib/python3.8/site-packages (from matplotlib!=3.6.1,>=3.1->seaborn) (6.0.0)\r\n",
      "Requirement already satisfied: fonttools>=4.22.0 in /usr/local/lib/python3.8/site-packages (from matplotlib!=3.6.1,>=3.1->seaborn) (4.40.0)\r\n",
      "Requirement already satisfied: kiwisolver>=1.0.1 in /usr/local/lib/python3.8/site-packages (from matplotlib!=3.6.1,>=3.1->seaborn) (1.4.4)\r\n",
      "Requirement already satisfied: cycler>=0.10 in /usr/local/lib/python3.8/site-packages (from matplotlib!=3.6.1,>=3.1->seaborn) (0.11.0)\r\n",
      "Requirement already satisfied: pytz>=2020.1 in /usr/local/lib/python3.8/site-packages (from pandas>=0.25->seaborn) (2023.3)\r\n",
      "Requirement already satisfied: tzdata>=2022.1 in /usr/local/lib/python3.8/site-packages (from pandas>=0.25->seaborn) (2023.3)\r\n",
      "Requirement already satisfied: zipp>=3.1.0 in /usr/local/lib/python3.8/site-packages (from importlib-resources>=3.2.0->matplotlib!=3.6.1,>=3.1->seaborn) (3.15.0)\r\n",
      "Requirement already satisfied: six>=1.5 in /usr/local/lib/python3.8/site-packages (from python-dateutil>=2.7->matplotlib!=3.6.1,>=3.1->seaborn) (1.16.0)\r\n",
      "Installing collected packages: plotly, seaborn\r\n",
      "Successfully installed plotly-5.16.1 seaborn-0.12.2\r\n",
      "\u001b[33mWARNING: Running pip as the 'root' user can result in broken permissions and conflicting behaviour with the system package manager. It is recommended to use a virtual environment instead: https://pip.pypa.io/warnings/venv\u001b[0m\u001b[33m\r\n",
      "\u001b[0m\r\n",
      "\u001b[1m[\u001b[0m\u001b[34;49mnotice\u001b[0m\u001b[1;39;49m]\u001b[0m\u001b[39;49m A new release of pip is available: \u001b[0m\u001b[31;49m23.0.1\u001b[0m\u001b[39;49m -> \u001b[0m\u001b[32;49m23.2.1\u001b[0m\r\n",
      "\u001b[1m[\u001b[0m\u001b[34;49mnotice\u001b[0m\u001b[1;39;49m]\u001b[0m\u001b[39;49m To update, run: \u001b[0m\u001b[32;49mpip install --upgrade pip\u001b[0m\r\n"
     ]
    },
    {
     "name": "stderr",
     "output_type": "stream",
     "text": [
      "D0816 19:52:30.371391189      14 config.cc:119]                        gRPC EXPERIMENT tcp_frame_size_tuning               OFF (default:OFF)\n",
      "D0816 19:52:30.371417010      14 config.cc:119]                        gRPC EXPERIMENT tcp_rcv_lowat                       OFF (default:OFF)\n",
      "D0816 19:52:30.371420859      14 config.cc:119]                        gRPC EXPERIMENT peer_state_based_framing            OFF (default:OFF)\n",
      "D0816 19:52:30.371424089      14 config.cc:119]                        gRPC EXPERIMENT flow_control_fixes                  ON  (default:ON)\n",
      "D0816 19:52:30.371427122      14 config.cc:119]                        gRPC EXPERIMENT memory_pressure_controller          OFF (default:OFF)\n",
      "D0816 19:52:30.371430714      14 config.cc:119]                        gRPC EXPERIMENT unconstrained_max_quota_buffer_size OFF (default:OFF)\n",
      "D0816 19:52:30.371437555      14 config.cc:119]                        gRPC EXPERIMENT new_hpack_huffman_decoder           ON  (default:ON)\n",
      "D0816 19:52:30.371441145      14 config.cc:119]                        gRPC EXPERIMENT event_engine_client                 OFF (default:OFF)\n",
      "D0816 19:52:30.371444198      14 config.cc:119]                        gRPC EXPERIMENT monitoring_experiment               ON  (default:ON)\n",
      "D0816 19:52:30.371447132      14 config.cc:119]                        gRPC EXPERIMENT promise_based_client_call           OFF (default:OFF)\n",
      "D0816 19:52:30.371450200      14 config.cc:119]                        gRPC EXPERIMENT free_large_allocator                OFF (default:OFF)\n",
      "D0816 19:52:30.371453132      14 config.cc:119]                        gRPC EXPERIMENT promise_based_server_call           OFF (default:OFF)\n",
      "D0816 19:52:30.371456289      14 config.cc:119]                        gRPC EXPERIMENT transport_supplies_client_latency   OFF (default:OFF)\n",
      "D0816 19:52:30.371459183      14 config.cc:119]                        gRPC EXPERIMENT event_engine_listener               OFF (default:OFF)\n",
      "I0816 19:52:30.371703767      14 ev_epoll1_linux.cc:122]               grpc epoll fd: 59\n",
      "D0816 19:52:30.371717792      14 ev_posix.cc:144]                      Using polling engine: epoll1\n",
      "D0816 19:52:30.371739767      14 dns_resolver_ares.cc:822]             Using ares dns resolver\n",
      "D0816 19:52:30.372122400      14 lb_policy_registry.cc:46]             registering LB policy factory for \"priority_experimental\"\n",
      "D0816 19:52:30.372134340      14 lb_policy_registry.cc:46]             registering LB policy factory for \"outlier_detection_experimental\"\n",
      "D0816 19:52:30.372138520      14 lb_policy_registry.cc:46]             registering LB policy factory for \"weighted_target_experimental\"\n",
      "D0816 19:52:30.372141913      14 lb_policy_registry.cc:46]             registering LB policy factory for \"pick_first\"\n",
      "D0816 19:52:30.372145706      14 lb_policy_registry.cc:46]             registering LB policy factory for \"round_robin\"\n",
      "D0816 19:52:30.372153694      14 lb_policy_registry.cc:46]             registering LB policy factory for \"weighted_round_robin_experimental\"\n",
      "D0816 19:52:30.372161487      14 lb_policy_registry.cc:46]             registering LB policy factory for \"ring_hash_experimental\"\n",
      "D0816 19:52:30.372179818      14 lb_policy_registry.cc:46]             registering LB policy factory for \"grpclb\"\n",
      "D0816 19:52:30.372208530      14 lb_policy_registry.cc:46]             registering LB policy factory for \"rls_experimental\"\n",
      "D0816 19:52:30.372224190      14 lb_policy_registry.cc:46]             registering LB policy factory for \"xds_cluster_manager_experimental\"\n",
      "D0816 19:52:30.372228237      14 lb_policy_registry.cc:46]             registering LB policy factory for \"xds_cluster_impl_experimental\"\n",
      "D0816 19:52:30.372232339      14 lb_policy_registry.cc:46]             registering LB policy factory for \"cds_experimental\"\n",
      "D0816 19:52:30.372239647      14 lb_policy_registry.cc:46]             registering LB policy factory for \"xds_cluster_resolver_experimental\"\n",
      "D0816 19:52:30.372243529      14 lb_policy_registry.cc:46]             registering LB policy factory for \"xds_override_host_experimental\"\n",
      "D0816 19:52:30.372247660      14 lb_policy_registry.cc:46]             registering LB policy factory for \"xds_wrr_locality_experimental\"\n",
      "D0816 19:52:30.372251476      14 certificate_provider_registry.cc:35]  registering certificate provider factory for \"file_watcher\"\n",
      "I0816 19:52:30.374573410      14 socket_utils_common_posix.cc:408]     Disabling AF_INET6 sockets because ::1 is not available.\n",
      "I0816 19:52:30.408439196      14 socket_utils_common_posix.cc:337]     TCP_USER_TIMEOUT is available. TCP_USER_TIMEOUT will be used thereafter\n",
      "E0816 19:52:30.415687458      14 oauth2_credentials.cc:236]            oauth_fetch: UNKNOWN:C-ares status is not ARES_SUCCESS qtype=A name=metadata.google.internal. is_balancer=0: Domain name not found {grpc_status:2, created_time:\"2023-08-16T19:52:30.415669569+00:00\"}\n"
     ]
    },
    {
     "name": "stdout",
     "output_type": "stream",
     "text": [
      "Collecting transformers\r\n",
      "  Downloading transformers-4.31.0-py3-none-any.whl (7.4 MB)\r\n",
      "\u001b[2K     \u001b[90m━━━━━━━━━━━━━━━━━━━━━━━━━━━━━━━━━━━━━━━━\u001b[0m \u001b[32m7.4/7.4 MB\u001b[0m \u001b[31m35.1 MB/s\u001b[0m eta \u001b[36m0:00:00\u001b[0m\r\n",
      "\u001b[?25hRequirement already satisfied: filelock in /usr/local/lib/python3.8/site-packages (from transformers) (3.12.2)\r\n",
      "Collecting huggingface-hub<1.0,>=0.14.1\r\n",
      "  Downloading huggingface_hub-0.16.4-py3-none-any.whl (268 kB)\r\n",
      "\u001b[2K     \u001b[90m━━━━━━━━━━━━━━━━━━━━━━━━━━━━━━━━━━━━━━\u001b[0m \u001b[32m268.8/268.8 kB\u001b[0m \u001b[31m21.6 MB/s\u001b[0m eta \u001b[36m0:00:00\u001b[0m\r\n",
      "\u001b[?25hRequirement already satisfied: pyyaml>=5.1 in /usr/local/lib/python3.8/site-packages (from transformers) (6.0)\r\n",
      "Collecting tokenizers!=0.11.3,<0.14,>=0.11.1\r\n",
      "  Downloading tokenizers-0.13.3-cp38-cp38-manylinux_2_17_x86_64.manylinux2014_x86_64.whl (7.8 MB)\r\n",
      "\u001b[2K     \u001b[90m━━━━━━━━━━━━━━━━━━━━━━━━━━━━━━━━━━━━━━━━\u001b[0m \u001b[32m7.8/7.8 MB\u001b[0m \u001b[31m69.2 MB/s\u001b[0m eta \u001b[36m0:00:00\u001b[0m\r\n",
      "\u001b[?25hCollecting safetensors>=0.3.1\r\n",
      "  Downloading safetensors-0.3.2-cp38-cp38-manylinux_2_17_x86_64.manylinux2014_x86_64.whl (1.3 MB)\r\n",
      "\u001b[2K     \u001b[90m━━━━━━━━━━━━━━━━━━━━━━━━━━━━━━━━━━━━━━━━\u001b[0m \u001b[32m1.3/1.3 MB\u001b[0m \u001b[31m51.8 MB/s\u001b[0m eta \u001b[36m0:00:00\u001b[0m\r\n",
      "\u001b[?25hRequirement already satisfied: tqdm>=4.27 in /usr/local/lib/python3.8/site-packages (from transformers) (4.65.0)\r\n",
      "Collecting regex!=2019.12.17\r\n",
      "  Downloading regex-2023.8.8-cp38-cp38-manylinux_2_17_x86_64.manylinux2014_x86_64.whl (774 kB)\r\n",
      "\u001b[2K     \u001b[90m━━━━━━━━━━━━━━━━━━━━━━━━━━━━━━━━━━━━━━\u001b[0m \u001b[32m774.3/774.3 kB\u001b[0m \u001b[31m39.5 MB/s\u001b[0m eta \u001b[36m0:00:00\u001b[0m\r\n",
      "\u001b[?25hRequirement already satisfied: numpy>=1.17 in /usr/local/lib/python3.8/site-packages (from transformers) (1.23.5)\r\n",
      "Requirement already satisfied: requests in /usr/local/lib/python3.8/site-packages (from transformers) (2.31.0)\r\n",
      "Requirement already satisfied: packaging>=20.0 in /usr/local/lib/python3.8/site-packages (from transformers) (23.1)\r\n",
      "Collecting fsspec\r\n",
      "  Downloading fsspec-2023.6.0-py3-none-any.whl (163 kB)\r\n",
      "\u001b[2K     \u001b[90m━━━━━━━━━━━━━━━━━━━━━━━━━━━━━━━━━━━━━━━\u001b[0m \u001b[32m163.8/163.8 kB\u001b[0m \u001b[31m8.8 MB/s\u001b[0m eta \u001b[36m0:00:00\u001b[0m\r\n",
      "\u001b[?25hRequirement already satisfied: typing-extensions>=3.7.4.3 in /usr/local/lib/python3.8/site-packages (from huggingface-hub<1.0,>=0.14.1->transformers) (4.7.1)\r\n",
      "Requirement already satisfied: urllib3<3,>=1.21.1 in /usr/local/lib/python3.8/site-packages (from requests->transformers) (1.26.16)\r\n",
      "Requirement already satisfied: idna<4,>=2.5 in /usr/local/lib/python3.8/site-packages (from requests->transformers) (3.4)\r\n",
      "Requirement already satisfied: charset-normalizer<4,>=2 in /usr/local/lib/python3.8/site-packages (from requests->transformers) (3.2.0)\r\n",
      "Requirement already satisfied: certifi>=2017.4.17 in /usr/local/lib/python3.8/site-packages (from requests->transformers) (2023.5.7)\r\n",
      "Installing collected packages: tokenizers, safetensors, regex, fsspec, huggingface-hub, transformers\r\n",
      "Successfully installed fsspec-2023.6.0 huggingface-hub-0.16.4 regex-2023.8.8 safetensors-0.3.2 tokenizers-0.13.3 transformers-4.31.0\r\n",
      "\u001b[33mWARNING: Running pip as the 'root' user can result in broken permissions and conflicting behaviour with the system package manager. It is recommended to use a virtual environment instead: https://pip.pypa.io/warnings/venv\u001b[0m\u001b[33m\r\n",
      "\u001b[0m\r\n",
      "\u001b[1m[\u001b[0m\u001b[34;49mnotice\u001b[0m\u001b[1;39;49m]\u001b[0m\u001b[39;49m A new release of pip is available: \u001b[0m\u001b[31;49m23.0.1\u001b[0m\u001b[39;49m -> \u001b[0m\u001b[32;49m23.2.1\u001b[0m\r\n",
      "\u001b[1m[\u001b[0m\u001b[34;49mnotice\u001b[0m\u001b[1;39;49m]\u001b[0m\u001b[39;49m To update, run: \u001b[0m\u001b[32;49mpip install --upgrade pip\u001b[0m\r\n"
     ]
    },
    {
     "name": "stderr",
     "output_type": "stream",
     "text": [
      "/usr/local/lib/python3.8/site-packages/tqdm/auto.py:21: TqdmWarning: IProgress not found. Please update jupyter and ipywidgets. See https://ipywidgets.readthedocs.io/en/stable/user_install.html\n",
      "  from .autonotebook import tqdm as notebook_tqdm\n"
     ]
    },
    {
     "name": "stdout",
     "output_type": "stream",
     "text": [
      "2.12.0\n",
      "4.31.0\n"
     ]
    }
   ],
   "source": [
    "import re\n",
    "import string\n",
    "!pip install visualkeras\n",
    "import pandas as pd\n",
    "import numpy as np\n",
    "import matplotlib.pyplot as plt\n",
    "!pip install seaborn plotly \n",
    "import seaborn as sns\n",
    "\n",
    "import tensorflow as tf\n",
    "!pip install transformers\n",
    "\n",
    "import transformers\n",
    "from transformers import BertTokenizer\n",
    "from transformers import TFAutoModel\n",
    "\n",
    "from tensorflow.keras.callbacks import EarlyStopping\n",
    "\n",
    "print(tf.__version__)\n",
    "print(transformers.__version__)"
   ]
  },
  {
   "cell_type": "markdown",
   "id": "fbac08ff",
   "metadata": {
    "id": "eYjQNqxat4x8",
    "papermill": {
     "duration": 0.014402,
     "end_time": "2023-08-16T19:52:54.146569",
     "exception": false,
     "start_time": "2023-08-16T19:52:54.132167",
     "status": "completed"
    },
    "tags": []
   },
   "source": [
    "# 📋 Loading the Data"
   ]
  },
  {
   "cell_type": "code",
   "execution_count": 2,
   "id": "b773c2ae",
   "metadata": {
    "execution": {
     "iopub.execute_input": "2023-08-16T19:52:54.176613Z",
     "iopub.status.busy": "2023-08-16T19:52:54.175795Z",
     "iopub.status.idle": "2023-08-16T19:53:04.427838Z",
     "shell.execute_reply": "2023-08-16T19:53:04.426733Z"
    },
    "id": "9Oxb2ZWNt4x9",
    "papermill": {
     "duration": 10.270119,
     "end_time": "2023-08-16T19:53:04.430664",
     "exception": false,
     "start_time": "2023-08-16T19:52:54.160545",
     "status": "completed"
    },
    "scrolled": true,
    "tags": []
   },
   "outputs": [
    {
     "name": "stdout",
     "output_type": "stream",
     "text": [
      "Collecting gensim\r\n",
      "  Downloading gensim-4.3.1-cp38-cp38-manylinux_2_17_x86_64.manylinux2014_x86_64.whl (26.5 MB)\r\n",
      "\u001b[2K     \u001b[90m━━━━━━━━━━━━━━━━━━━━━━━━━━━━━━━━━━━━━━━━\u001b[0m \u001b[32m26.5/26.5 MB\u001b[0m \u001b[31m43.6 MB/s\u001b[0m eta \u001b[36m0:00:00\u001b[0m\r\n",
      "\u001b[?25hCollecting nltk\r\n",
      "  Downloading nltk-3.8.1-py3-none-any.whl (1.5 MB)\r\n",
      "\u001b[2K     \u001b[90m━━━━━━━━━━━━━━━━━━━━━━━━━━━━━━━━━━━━━━━━\u001b[0m \u001b[32m1.5/1.5 MB\u001b[0m \u001b[31m51.9 MB/s\u001b[0m eta \u001b[36m0:00:00\u001b[0m\r\n",
      "\u001b[?25hRequirement already satisfied: numpy>=1.18.5 in /usr/local/lib/python3.8/site-packages (from gensim) (1.23.5)\r\n",
      "Collecting smart-open>=1.8.1\r\n",
      "  Downloading smart_open-6.3.0-py3-none-any.whl (56 kB)\r\n",
      "\u001b[2K     \u001b[90m━━━━━━━━━━━━━━━━━━━━━━━━━━━━━━━━━━━━━━━━\u001b[0m \u001b[32m56.8/56.8 kB\u001b[0m \u001b[31m5.2 MB/s\u001b[0m eta \u001b[36m0:00:00\u001b[0m\r\n",
      "\u001b[?25hRequirement already satisfied: scipy>=1.7.0 in /usr/local/lib/python3.8/site-packages (from gensim) (1.10.1)\r\n",
      "Requirement already satisfied: joblib in /usr/local/lib/python3.8/site-packages (from nltk) (1.3.1)\r\n",
      "Requirement already satisfied: regex>=2021.8.3 in /usr/local/lib/python3.8/site-packages (from nltk) (2023.8.8)\r\n",
      "Requirement already satisfied: click in /usr/local/lib/python3.8/site-packages (from nltk) (8.1.4)\r\n",
      "Requirement already satisfied: tqdm in /usr/local/lib/python3.8/site-packages (from nltk) (4.65.0)\r\n",
      "Installing collected packages: smart-open, nltk, gensim\r\n",
      "Successfully installed gensim-4.3.1 nltk-3.8.1 smart-open-6.3.0\r\n",
      "\u001b[33mWARNING: Running pip as the 'root' user can result in broken permissions and conflicting behaviour with the system package manager. It is recommended to use a virtual environment instead: https://pip.pypa.io/warnings/venv\u001b[0m\u001b[33m\r\n",
      "\u001b[0m\r\n",
      "\u001b[1m[\u001b[0m\u001b[34;49mnotice\u001b[0m\u001b[1;39;49m]\u001b[0m\u001b[39;49m A new release of pip is available: \u001b[0m\u001b[31;49m23.0.1\u001b[0m\u001b[39;49m -> \u001b[0m\u001b[32;49m23.2.1\u001b[0m\r\n",
      "\u001b[1m[\u001b[0m\u001b[34;49mnotice\u001b[0m\u001b[1;39;49m]\u001b[0m\u001b[39;49m To update, run: \u001b[0m\u001b[32;49mpip install --upgrade pip\u001b[0m\r\n"
     ]
    }
   ],
   "source": [
    "import pandas as pd\n",
    "import numpy as np\n",
    "!pip install gensim nltk\n",
    "import gensim\n",
    "from gensim.models import Word2Vec\n",
    "from nltk.tokenize import sent_tokenize, word_tokenize\n",
    "import warnings\n",
    "warnings.filterwarnings(\"ignore\")\n",
    "#df = pd.read_csv('/kaggle/input/uk-twitter-covid19-dataset/sample_data.csv')\n",
    "#df = pd.read_csv('/kaggle/input/external-covid-19-twitter-dataset/us_airlines_sample_data.csv')\n",
    "#df = pd.read_csv('/kaggle/input/appletwittersentimenttexts/apple-twitter-sentiment-texts.csv')\n",
    "df = pd.read_csv('/kaggle/input/external-covid-19-twitter-dataset/Reddit_Data.csv')\n",
    "#df = pd.read_csv('/kaggle/input/external-covid-19-twitter-dataset/Twitter_Data.csv')"
   ]
  },
  {
   "cell_type": "code",
   "execution_count": 3,
   "id": "f89f4ac7",
   "metadata": {
    "execution": {
     "iopub.execute_input": "2023-08-16T19:53:04.467381Z",
     "iopub.status.busy": "2023-08-16T19:53:04.467024Z",
     "iopub.status.idle": "2023-08-16T19:53:04.491632Z",
     "shell.execute_reply": "2023-08-16T19:53:04.490760Z"
    },
    "id": "emmjiQqDZJX2",
    "outputId": "ef76244a-0de4-40c7-f7c9-8b5bfc21b1e0",
    "papermill": {
     "duration": 0.045458,
     "end_time": "2023-08-16T19:53:04.493845",
     "exception": false,
     "start_time": "2023-08-16T19:53:04.448387",
     "status": "completed"
    },
    "tags": []
   },
   "outputs": [
    {
     "name": "stdout",
     "output_type": "stream",
     "text": [
      "<class 'pandas.core.frame.DataFrame'>\n",
      "RangeIndex: 37249 entries, 0 to 37248\n",
      "Data columns (total 2 columns):\n",
      " #   Column         Non-Null Count  Dtype \n",
      "---  ------         --------------  ----- \n",
      " 0   clean_comment  37149 non-null  object\n",
      " 1   category       37249 non-null  int64 \n",
      "dtypes: int64(1), object(1)\n",
      "memory usage: 582.1+ KB\n",
      "None\n"
     ]
    }
   ],
   "source": [
    "print(df.info())"
   ]
  },
  {
   "cell_type": "code",
   "execution_count": 4,
   "id": "ae80cfdc",
   "metadata": {
    "execution": {
     "iopub.execute_input": "2023-08-16T19:53:04.530011Z",
     "iopub.status.busy": "2023-08-16T19:53:04.529597Z",
     "iopub.status.idle": "2023-08-16T19:53:04.555939Z",
     "shell.execute_reply": "2023-08-16T19:53:04.554979Z"
    },
    "id": "xMcpqlfwZJX3",
    "outputId": "9990a87d-cbcb-4233-c31d-dce2317308d0",
    "papermill": {
     "duration": 0.047662,
     "end_time": "2023-08-16T19:53:04.558273",
     "exception": false,
     "start_time": "2023-08-16T19:53:04.510611",
     "status": "completed"
    },
    "tags": []
   },
   "outputs": [
    {
     "data": {
      "text/html": [
       "<div>\n",
       "<style scoped>\n",
       "    .dataframe tbody tr th:only-of-type {\n",
       "        vertical-align: middle;\n",
       "    }\n",
       "\n",
       "    .dataframe tbody tr th {\n",
       "        vertical-align: top;\n",
       "    }\n",
       "\n",
       "    .dataframe thead th {\n",
       "        text-align: right;\n",
       "    }\n",
       "</style>\n",
       "<table border=\"1\" class=\"dataframe\">\n",
       "  <thead>\n",
       "    <tr style=\"text-align: right;\">\n",
       "      <th></th>\n",
       "      <th>clean_comment</th>\n",
       "      <th>category</th>\n",
       "    </tr>\n",
       "  </thead>\n",
       "  <tbody>\n",
       "    <tr>\n",
       "      <th>0</th>\n",
       "      <td>family mormon have never tried explain them t...</td>\n",
       "      <td>1</td>\n",
       "    </tr>\n",
       "    <tr>\n",
       "      <th>1</th>\n",
       "      <td>buddhism has very much lot compatible with chr...</td>\n",
       "      <td>1</td>\n",
       "    </tr>\n",
       "    <tr>\n",
       "      <th>2</th>\n",
       "      <td>seriously don say thing first all they won get...</td>\n",
       "      <td>-1</td>\n",
       "    </tr>\n",
       "    <tr>\n",
       "      <th>3</th>\n",
       "      <td>what you have learned yours and only yours wha...</td>\n",
       "      <td>0</td>\n",
       "    </tr>\n",
       "    <tr>\n",
       "      <th>4</th>\n",
       "      <td>for your own benefit you may want read living ...</td>\n",
       "      <td>1</td>\n",
       "    </tr>\n",
       "  </tbody>\n",
       "</table>\n",
       "</div>"
      ],
      "text/plain": [
       "                                       clean_comment  category\n",
       "0   family mormon have never tried explain them t...         1\n",
       "1  buddhism has very much lot compatible with chr...         1\n",
       "2  seriously don say thing first all they won get...        -1\n",
       "3  what you have learned yours and only yours wha...         0\n",
       "4  for your own benefit you may want read living ...         1"
      ]
     },
     "execution_count": 4,
     "metadata": {},
     "output_type": "execute_result"
    }
   ],
   "source": [
    "df = df.dropna()\n",
    "df.head()"
   ]
  },
  {
   "cell_type": "code",
   "execution_count": 5,
   "id": "2302053c",
   "metadata": {
    "execution": {
     "iopub.execute_input": "2023-08-16T19:53:04.596819Z",
     "iopub.status.busy": "2023-08-16T19:53:04.596450Z",
     "iopub.status.idle": "2023-08-16T19:53:04.603655Z",
     "shell.execute_reply": "2023-08-16T19:53:04.602805Z"
    },
    "id": "xvyBg-3xv3lu",
    "papermill": {
     "duration": 0.028808,
     "end_time": "2023-08-16T19:53:04.605881",
     "exception": false,
     "start_time": "2023-08-16T19:53:04.577073",
     "status": "completed"
    },
    "tags": []
   },
   "outputs": [],
   "source": [
    "#df['text'] = df['clean_tweet']\n",
    "#df['target'] = df['senti_textblob']\n",
    "df['text'] = df['clean_comment']\n",
    "df['target'] = df['category']"
   ]
  },
  {
   "cell_type": "code",
   "execution_count": 6,
   "id": "e030e407",
   "metadata": {
    "execution": {
     "iopub.execute_input": "2023-08-16T19:53:04.642528Z",
     "iopub.status.busy": "2023-08-16T19:53:04.641803Z",
     "iopub.status.idle": "2023-08-16T19:53:04.648861Z",
     "shell.execute_reply": "2023-08-16T19:53:04.647987Z"
    },
    "id": "JLJ5cDhWZJX4",
    "outputId": "77289ce4-321d-4796-ecb6-b2e4ecca063c",
    "papermill": {
     "duration": 0.027766,
     "end_time": "2023-08-16T19:53:04.650971",
     "exception": false,
     "start_time": "2023-08-16T19:53:04.623205",
     "status": "completed"
    },
    "tags": []
   },
   "outputs": [
    {
     "data": {
      "text/plain": [
       "\"\\nimport pandas as pd\\n\\n# assuming your dataframe is named 'df'\\nnum_samples_per_label = 2000\\n\\n# group the dataframe by the label column\\ngrouped_df = df.groupby('target')\\n\\n# sample a specified number of rows from each group\\nsampled_df = grouped_df.apply(lambda x: x.sample(n=num_samples_per_label))\\n\\n# reset the index of the resulting dataframe\\nsampled_df = sampled_df.reset_index(drop=True)\\ndf = sampled_df \\n\""
      ]
     },
     "execution_count": 6,
     "metadata": {},
     "output_type": "execute_result"
    }
   ],
   "source": [
    "'''\n",
    "import pandas as pd\n",
    "\n",
    "# assuming your dataframe is named 'df'\n",
    "num_samples_per_label = 2000\n",
    "\n",
    "# group the dataframe by the label column\n",
    "grouped_df = df.groupby('target')\n",
    "\n",
    "# sample a specified number of rows from each group\n",
    "sampled_df = grouped_df.apply(lambda x: x.sample(n=num_samples_per_label))\n",
    "\n",
    "# reset the index of the resulting dataframe\n",
    "sampled_df = sampled_df.reset_index(drop=True)\n",
    "df = sampled_df \n",
    "'''"
   ]
  },
  {
   "cell_type": "code",
   "execution_count": 7,
   "id": "dea39b70",
   "metadata": {
    "execution": {
     "iopub.execute_input": "2023-08-16T19:53:04.689124Z",
     "iopub.status.busy": "2023-08-16T19:53:04.688159Z",
     "iopub.status.idle": "2023-08-16T19:53:04.705102Z",
     "shell.execute_reply": "2023-08-16T19:53:04.704170Z"
    },
    "papermill": {
     "duration": 0.038514,
     "end_time": "2023-08-16T19:53:04.707350",
     "exception": false,
     "start_time": "2023-08-16T19:53:04.668836",
     "status": "completed"
    },
    "tags": []
   },
   "outputs": [
    {
     "data": {
      "text/html": [
       "<div>\n",
       "<style scoped>\n",
       "    .dataframe tbody tr th:only-of-type {\n",
       "        vertical-align: middle;\n",
       "    }\n",
       "\n",
       "    .dataframe tbody tr th {\n",
       "        vertical-align: top;\n",
       "    }\n",
       "\n",
       "    .dataframe thead th {\n",
       "        text-align: right;\n",
       "    }\n",
       "</style>\n",
       "<table border=\"1\" class=\"dataframe\">\n",
       "  <thead>\n",
       "    <tr style=\"text-align: right;\">\n",
       "      <th></th>\n",
       "      <th>text</th>\n",
       "      <th>target</th>\n",
       "    </tr>\n",
       "  </thead>\n",
       "  <tbody>\n",
       "    <tr>\n",
       "      <th>0</th>\n",
       "      <td>family mormon have never tried explain them t...</td>\n",
       "      <td>1</td>\n",
       "    </tr>\n",
       "    <tr>\n",
       "      <th>1</th>\n",
       "      <td>buddhism has very much lot compatible with chr...</td>\n",
       "      <td>1</td>\n",
       "    </tr>\n",
       "    <tr>\n",
       "      <th>2</th>\n",
       "      <td>seriously don say thing first all they won get...</td>\n",
       "      <td>-1</td>\n",
       "    </tr>\n",
       "    <tr>\n",
       "      <th>3</th>\n",
       "      <td>what you have learned yours and only yours wha...</td>\n",
       "      <td>0</td>\n",
       "    </tr>\n",
       "    <tr>\n",
       "      <th>4</th>\n",
       "      <td>for your own benefit you may want read living ...</td>\n",
       "      <td>1</td>\n",
       "    </tr>\n",
       "    <tr>\n",
       "      <th>...</th>\n",
       "      <td>...</td>\n",
       "      <td>...</td>\n",
       "    </tr>\n",
       "    <tr>\n",
       "      <th>37244</th>\n",
       "      <td>jesus</td>\n",
       "      <td>0</td>\n",
       "    </tr>\n",
       "    <tr>\n",
       "      <th>37245</th>\n",
       "      <td>kya bhai pure saal chutiya banaya modi aur jab...</td>\n",
       "      <td>1</td>\n",
       "    </tr>\n",
       "    <tr>\n",
       "      <th>37246</th>\n",
       "      <td>downvote karna tha par upvote hogaya</td>\n",
       "      <td>0</td>\n",
       "    </tr>\n",
       "    <tr>\n",
       "      <th>37247</th>\n",
       "      <td>haha nice</td>\n",
       "      <td>1</td>\n",
       "    </tr>\n",
       "    <tr>\n",
       "      <th>37248</th>\n",
       "      <td>facebook itself now working bjp’ cell</td>\n",
       "      <td>0</td>\n",
       "    </tr>\n",
       "  </tbody>\n",
       "</table>\n",
       "<p>37149 rows × 2 columns</p>\n",
       "</div>"
      ],
      "text/plain": [
       "                                                    text  target\n",
       "0       family mormon have never tried explain them t...       1\n",
       "1      buddhism has very much lot compatible with chr...       1\n",
       "2      seriously don say thing first all they won get...      -1\n",
       "3      what you have learned yours and only yours wha...       0\n",
       "4      for your own benefit you may want read living ...       1\n",
       "...                                                  ...     ...\n",
       "37244                                              jesus       0\n",
       "37245  kya bhai pure saal chutiya banaya modi aur jab...       1\n",
       "37246              downvote karna tha par upvote hogaya        0\n",
       "37247                                         haha nice        1\n",
       "37248             facebook itself now working bjp’ cell        0\n",
       "\n",
       "[37149 rows x 2 columns]"
      ]
     },
     "execution_count": 7,
     "metadata": {},
     "output_type": "execute_result"
    }
   ],
   "source": [
    "df = df.drop(columns = ['clean_comment','category'])\n",
    "df"
   ]
  },
  {
   "cell_type": "code",
   "execution_count": 8,
   "id": "71754531",
   "metadata": {
    "execution": {
     "iopub.execute_input": "2023-08-16T19:53:04.746554Z",
     "iopub.status.busy": "2023-08-16T19:53:04.746164Z",
     "iopub.status.idle": "2023-08-16T19:53:04.760114Z",
     "shell.execute_reply": "2023-08-16T19:53:04.759039Z"
    },
    "id": "jajcwldZt4x-",
    "papermill": {
     "duration": 0.036568,
     "end_time": "2023-08-16T19:53:04.762428",
     "exception": false,
     "start_time": "2023-08-16T19:53:04.725860",
     "status": "completed"
    },
    "tags": []
   },
   "outputs": [],
   "source": [
    "from sklearn.model_selection import train_test_split\n",
    "train, test = train_test_split(df[['text','target']], test_size = 0.2, random_state = 42)"
   ]
  },
  {
   "cell_type": "code",
   "execution_count": 9,
   "id": "7ffca24d",
   "metadata": {
    "execution": {
     "iopub.execute_input": "2023-08-16T19:53:04.800741Z",
     "iopub.status.busy": "2023-08-16T19:53:04.800352Z",
     "iopub.status.idle": "2023-08-16T19:53:04.812857Z",
     "shell.execute_reply": "2023-08-16T19:53:04.811941Z"
    },
    "id": "TbThwqE7ZJX6",
    "outputId": "07ccc38b-7434-41ac-b635-feffe17993cb",
    "papermill": {
     "duration": 0.03434,
     "end_time": "2023-08-16T19:53:04.815144",
     "exception": false,
     "start_time": "2023-08-16T19:53:04.780804",
     "status": "completed"
    },
    "tags": []
   },
   "outputs": [
    {
     "data": {
      "text/html": [
       "<div>\n",
       "<style scoped>\n",
       "    .dataframe tbody tr th:only-of-type {\n",
       "        vertical-align: middle;\n",
       "    }\n",
       "\n",
       "    .dataframe tbody tr th {\n",
       "        vertical-align: top;\n",
       "    }\n",
       "\n",
       "    .dataframe thead th {\n",
       "        text-align: right;\n",
       "    }\n",
       "</style>\n",
       "<table border=\"1\" class=\"dataframe\">\n",
       "  <thead>\n",
       "    <tr style=\"text-align: right;\">\n",
       "      <th></th>\n",
       "      <th>text</th>\n",
       "      <th>target</th>\n",
       "    </tr>\n",
       "  </thead>\n",
       "  <tbody>\n",
       "    <tr>\n",
       "      <th>31732</th>\n",
       "      <td>oooooooooooh remember this chutiya was the one...</td>\n",
       "      <td>1</td>\n",
       "    </tr>\n",
       "    <tr>\n",
       "      <th>34911</th>\n",
       "      <td>one that good hijacking media</td>\n",
       "      <td>1</td>\n",
       "    </tr>\n",
       "    <tr>\n",
       "      <th>738</th>\n",
       "      <td>harshvardhan ahead 43350 votes</td>\n",
       "      <td>0</td>\n",
       "    </tr>\n",
       "    <tr>\n",
       "      <th>11430</th>\n",
       "      <td>epaper here anyone wants the free encyclopedia...</td>\n",
       "      <td>1</td>\n",
       "    </tr>\n",
       "    <tr>\n",
       "      <th>17796</th>\n",
       "      <td>fuck boys heart pounding</td>\n",
       "      <td>-1</td>\n",
       "    </tr>\n",
       "    <tr>\n",
       "      <th>...</th>\n",
       "      <td>...</td>\n",
       "      <td>...</td>\n",
       "    </tr>\n",
       "    <tr>\n",
       "      <th>16887</th>\n",
       "      <td>curious don have much knowledge law but don h...</td>\n",
       "      <td>1</td>\n",
       "    </tr>\n",
       "    <tr>\n",
       "      <th>6276</th>\n",
       "      <td>will shittier than any</td>\n",
       "      <td>0</td>\n",
       "    </tr>\n",
       "    <tr>\n",
       "      <th>11309</th>\n",
       "      <td>jokes pretty common name amongst the car drive...</td>\n",
       "      <td>-1</td>\n",
       "    </tr>\n",
       "    <tr>\n",
       "      <th>862</th>\n",
       "      <td>because arvind kejriwal reminds robespierre</td>\n",
       "      <td>0</td>\n",
       "    </tr>\n",
       "    <tr>\n",
       "      <th>15830</th>\n",
       "      <td>good lord the quint website cancer and incompl...</td>\n",
       "      <td>1</td>\n",
       "    </tr>\n",
       "  </tbody>\n",
       "</table>\n",
       "<p>29719 rows × 2 columns</p>\n",
       "</div>"
      ],
      "text/plain": [
       "                                                    text  target\n",
       "31732  oooooooooooh remember this chutiya was the one...       1\n",
       "34911                     one that good hijacking media        1\n",
       "738                      harshvardhan ahead 43350 votes        0\n",
       "11430  epaper here anyone wants the free encyclopedia...       1\n",
       "17796                          fuck boys heart pounding       -1\n",
       "...                                                  ...     ...\n",
       "16887   curious don have much knowledge law but don h...       1\n",
       "6276                             will shittier than any        0\n",
       "11309  jokes pretty common name amongst the car drive...      -1\n",
       "862         because arvind kejriwal reminds robespierre        0\n",
       "15830  good lord the quint website cancer and incompl...       1\n",
       "\n",
       "[29719 rows x 2 columns]"
      ]
     },
     "execution_count": 9,
     "metadata": {},
     "output_type": "execute_result"
    }
   ],
   "source": [
    "train"
   ]
  },
  {
   "cell_type": "code",
   "execution_count": 10,
   "id": "e37f9e6e",
   "metadata": {
    "execution": {
     "iopub.execute_input": "2023-08-16T19:53:04.854337Z",
     "iopub.status.busy": "2023-08-16T19:53:04.853590Z",
     "iopub.status.idle": "2023-08-16T19:53:04.883260Z",
     "shell.execute_reply": "2023-08-16T19:53:04.882395Z"
    },
    "id": "KjrSVaAQZJX7",
    "outputId": "3161fd09-660f-4814-f45d-b9f5b9ca073e",
    "papermill": {
     "duration": 0.051652,
     "end_time": "2023-08-16T19:53:04.885549",
     "exception": false,
     "start_time": "2023-08-16T19:53:04.833897",
     "status": "completed"
    },
    "tags": []
   },
   "outputs": [
    {
     "name": "stdout",
     "output_type": "stream",
     "text": [
      "train, counts of label '1': 12651\n",
      "train, counts of label '0': 10388\n",
      "train, counts of label '-1': 6680\n",
      "\n",
      "test, counts of label '1': 3179\n",
      "test, counts of label '0': 2654\n",
      "test, counts of label '-1': 1597\n"
     ]
    }
   ],
   "source": [
    "print(\"train, counts of label '1': {}\".format(sum(train.target == 1)))\n",
    "print(\"train, counts of label '0': {}\".format(sum(train.target == 0)))\n",
    "print(\"train, counts of label '-1': {}\\n\".format(sum(train.target == -1)))\n",
    "print(\"test, counts of label '1': {}\".format(sum(test.target == 1)))\n",
    "print(\"test, counts of label '0': {}\".format(sum(test.target == 0)))\n",
    "print(\"test, counts of label '-1': {}\".format(sum(test.target == -1)))"
   ]
  },
  {
   "cell_type": "code",
   "execution_count": 11,
   "id": "8b8448f3",
   "metadata": {
    "execution": {
     "iopub.execute_input": "2023-08-16T19:53:04.924898Z",
     "iopub.status.busy": "2023-08-16T19:53:04.924564Z",
     "iopub.status.idle": "2023-08-16T19:53:04.941470Z",
     "shell.execute_reply": "2023-08-16T19:53:04.940622Z"
    },
    "id": "miEGezTKZJYV",
    "papermill": {
     "duration": 0.039172,
     "end_time": "2023-08-16T19:53:04.943724",
     "exception": false,
     "start_time": "2023-08-16T19:53:04.904552",
     "status": "completed"
    },
    "tags": []
   },
   "outputs": [],
   "source": [
    "def reduce_mem_usage(df, verbose=True):\n",
    "    numerics = ['int16', 'int32', 'int64', 'float16', 'float32', 'float64']\n",
    "    start_mem = df.memory_usage().sum() / 1024**2\n",
    "    for col in df.columns:\n",
    "        col_type = df[col].dtypes\n",
    "        if col_type in numerics:\n",
    "            c_min = df[col].min()\n",
    "            c_max = df[col].max()\n",
    "            if str(col_type)[:3] == 'int':\n",
    "                if c_min > np.iinfo(np.int8).min and c_max < np.iinfo(np.int8).max:\n",
    "                    df[col] = df[col].astype(np.int8)\n",
    "                elif c_min > np.iinfo(np.int16).min and c_max < np.iinfo(np.int16).max:\n",
    "                    df[col] = df[col].astype(np.int16)\n",
    "                elif c_min > np.iinfo(np.int32).min and c_max < np.iinfo(np.int32).max:\n",
    "                    df[col] = df[col].astype(np.int32)\n",
    "                elif c_min > np.iinfo(np.int64).min and c_max < np.iinfo(np.int64).max:\n",
    "                    df[col] = df[col].astype(np.int64)\n",
    "            else:\n",
    "                if c_min > np.finfo(np.float16).min and c_max < np.finfo(np.float16).max:\n",
    "                    df[col] = df[col].astype(np.float16)\n",
    "                elif c_min > np.finfo(np.float32).min and c_max < np.finfo(np.float32).max:\n",
    "                    df[col] = df[col].astype(np.float32)\n",
    "                else:\n",
    "                    df[col] = df[col].astype(np.float64)\n",
    "\n",
    "    end_mem = df.memory_usage().sum() / 1024**2\n",
    "    print('Memory usage after optimization is: {:.2f} MB'.format(end_mem))\n",
    "    print('Decreased by {:.1f}%'.format(100 * (start_mem - end_mem) / start_mem))\n",
    "\n",
    "    return df\n",
    "\n",
    "#train = reduce_mem_usage(train)\n",
    "#train = reduce_mem_usage(test)"
   ]
  },
  {
   "cell_type": "code",
   "execution_count": 12,
   "id": "d4f07525",
   "metadata": {
    "execution": {
     "iopub.execute_input": "2023-08-16T19:53:04.982909Z",
     "iopub.status.busy": "2023-08-16T19:53:04.982586Z",
     "iopub.status.idle": "2023-08-16T19:53:04.989089Z",
     "shell.execute_reply": "2023-08-16T19:53:04.988224Z"
    },
    "papermill": {
     "duration": 0.028631,
     "end_time": "2023-08-16T19:53:04.991316",
     "exception": false,
     "start_time": "2023-08-16T19:53:04.962685",
     "status": "completed"
    },
    "tags": []
   },
   "outputs": [
    {
     "data": {
      "text/plain": [
       "\"\\nimport pandas as pd\\n\\n# assume your test data is stored in a pandas DataFrame called 'test'\\n# and the labels are stored in a column called 'target'\\n\\n# randomly sample 1000 rows from each label\\nlabel_1 = test[test.target == 1].sample(n=1000, replace=False)\\nlabel_0 = test[test.target == 0].sample(n=1000, replace=False)\\nlabel_minus_1 = test[test.target == -1].sample(n=1000, replace=False)\\n\\n# concatenate the sampled rows into one DataFrame\\nsampled_data = pd.concat([label_1, label_0, label_minus_1])\\n\\n# shuffle the DataFrame\\ntest = sampled_data.sample(frac=1).reset_index(drop=True)\\n\""
      ]
     },
     "execution_count": 12,
     "metadata": {},
     "output_type": "execute_result"
    }
   ],
   "source": [
    "'''\n",
    "import pandas as pd\n",
    "\n",
    "# assume your test data is stored in a pandas DataFrame called 'test'\n",
    "# and the labels are stored in a column called 'target'\n",
    "\n",
    "# randomly sample 1000 rows from each label\n",
    "label_1 = test[test.target == 1].sample(n=1000, replace=False)\n",
    "label_0 = test[test.target == 0].sample(n=1000, replace=False)\n",
    "label_minus_1 = test[test.target == -1].sample(n=1000, replace=False)\n",
    "\n",
    "# concatenate the sampled rows into one DataFrame\n",
    "sampled_data = pd.concat([label_1, label_0, label_minus_1])\n",
    "\n",
    "# shuffle the DataFrame\n",
    "test = sampled_data.sample(frac=1).reset_index(drop=True)\n",
    "'''"
   ]
  },
  {
   "cell_type": "code",
   "execution_count": 13,
   "id": "9bf5852f",
   "metadata": {
    "execution": {
     "iopub.execute_input": "2023-08-16T19:53:05.031663Z",
     "iopub.status.busy": "2023-08-16T19:53:05.031266Z",
     "iopub.status.idle": "2023-08-16T19:53:05.043714Z",
     "shell.execute_reply": "2023-08-16T19:53:05.042836Z"
    },
    "papermill": {
     "duration": 0.035217,
     "end_time": "2023-08-16T19:53:05.045942",
     "exception": false,
     "start_time": "2023-08-16T19:53:05.010725",
     "status": "completed"
    },
    "tags": []
   },
   "outputs": [
    {
     "data": {
      "text/html": [
       "<div>\n",
       "<style scoped>\n",
       "    .dataframe tbody tr th:only-of-type {\n",
       "        vertical-align: middle;\n",
       "    }\n",
       "\n",
       "    .dataframe tbody tr th {\n",
       "        vertical-align: top;\n",
       "    }\n",
       "\n",
       "    .dataframe thead th {\n",
       "        text-align: right;\n",
       "    }\n",
       "</style>\n",
       "<table border=\"1\" class=\"dataframe\">\n",
       "  <thead>\n",
       "    <tr style=\"text-align: right;\">\n",
       "      <th></th>\n",
       "      <th>text</th>\n",
       "      <th>target</th>\n",
       "    </tr>\n",
       "  </thead>\n",
       "  <tbody>\n",
       "    <tr>\n",
       "      <th>70</th>\n",
       "      <td>after seeing this uvjx3kwoehw video seems anyt...</td>\n",
       "      <td>0</td>\n",
       "    </tr>\n",
       "    <tr>\n",
       "      <th>12530</th>\n",
       "      <td>you killed karma</td>\n",
       "      <td>-1</td>\n",
       "    </tr>\n",
       "    <tr>\n",
       "      <th>35674</th>\n",
       "      <td>was voluntary sale not forced anyone then wha...</td>\n",
       "      <td>1</td>\n",
       "    </tr>\n",
       "    <tr>\n",
       "      <th>24178</th>\n",
       "      <td>weird see this because was just talking about...</td>\n",
       "      <td>1</td>\n",
       "    </tr>\n",
       "    <tr>\n",
       "      <th>25098</th>\n",
       "      <td>modi undoubtedly the worst thing that has happ...</td>\n",
       "      <td>-1</td>\n",
       "    </tr>\n",
       "    <tr>\n",
       "      <th>...</th>\n",
       "      <td>...</td>\n",
       "      <td>...</td>\n",
       "    </tr>\n",
       "    <tr>\n",
       "      <th>20874</th>\n",
       "      <td>aise news sunn kar lagta hai manavta khatam ch...</td>\n",
       "      <td>0</td>\n",
       "    </tr>\n",
       "    <tr>\n",
       "      <th>32589</th>\n",
       "      <td>are you modi fan assume after seeing several y...</td>\n",
       "      <td>0</td>\n",
       "    </tr>\n",
       "    <tr>\n",
       "      <th>22632</th>\n",
       "      <td>don let this wannabe dictator promises fool yo...</td>\n",
       "      <td>0</td>\n",
       "    </tr>\n",
       "    <tr>\n",
       "      <th>20058</th>\n",
       "      <td>amit shah gave lying for the holy week</td>\n",
       "      <td>0</td>\n",
       "    </tr>\n",
       "    <tr>\n",
       "      <th>1930</th>\n",
       "      <td>did the whitecaps goalie run the wrong goal th...</td>\n",
       "      <td>-1</td>\n",
       "    </tr>\n",
       "  </tbody>\n",
       "</table>\n",
       "<p>7430 rows × 2 columns</p>\n",
       "</div>"
      ],
      "text/plain": [
       "                                                    text  target\n",
       "70     after seeing this uvjx3kwoehw video seems anyt...       0\n",
       "12530                                  you killed karma       -1\n",
       "35674   was voluntary sale not forced anyone then wha...       1\n",
       "24178   weird see this because was just talking about...       1\n",
       "25098  modi undoubtedly the worst thing that has happ...      -1\n",
       "...                                                  ...     ...\n",
       "20874  aise news sunn kar lagta hai manavta khatam ch...       0\n",
       "32589  are you modi fan assume after seeing several y...       0\n",
       "22632  don let this wannabe dictator promises fool yo...       0\n",
       "20058            amit shah gave lying for the holy week        0\n",
       "1930   did the whitecaps goalie run the wrong goal th...      -1\n",
       "\n",
       "[7430 rows x 2 columns]"
      ]
     },
     "execution_count": 13,
     "metadata": {},
     "output_type": "execute_result"
    }
   ],
   "source": [
    "test"
   ]
  },
  {
   "cell_type": "code",
   "execution_count": 14,
   "id": "5f79b408",
   "metadata": {
    "execution": {
     "iopub.execute_input": "2023-08-16T19:53:05.084940Z",
     "iopub.status.busy": "2023-08-16T19:53:05.084583Z",
     "iopub.status.idle": "2023-08-16T19:53:05.088692Z",
     "shell.execute_reply": "2023-08-16T19:53:05.087856Z"
    },
    "id": "l8xeR7EAZJYW",
    "papermill": {
     "duration": 0.026311,
     "end_time": "2023-08-16T19:53:05.091088",
     "exception": false,
     "start_time": "2023-08-16T19:53:05.064777",
     "status": "completed"
    },
    "tags": []
   },
   "outputs": [],
   "source": [
    "#train2, test2 = train, test"
   ]
  },
  {
   "cell_type": "markdown",
   "id": "b3064d6a",
   "metadata": {
    "id": "-vJVSjfLt4x_",
    "papermill": {
     "duration": 0.018206,
     "end_time": "2023-08-16T19:53:05.127847",
     "exception": false,
     "start_time": "2023-08-16T19:53:05.109641",
     "status": "completed"
    },
    "tags": []
   },
   "source": [
    "# 🔨 Preprocessing"
   ]
  },
  {
   "cell_type": "code",
   "execution_count": 15,
   "id": "fa54b49f",
   "metadata": {
    "execution": {
     "iopub.execute_input": "2023-08-16T19:53:05.165249Z",
     "iopub.status.busy": "2023-08-16T19:53:05.164873Z",
     "iopub.status.idle": "2023-08-16T19:53:09.830651Z",
     "shell.execute_reply": "2023-08-16T19:53:09.829736Z"
    },
    "id": "tGVTdyEst4x_",
    "papermill": {
     "duration": 4.687734,
     "end_time": "2023-08-16T19:53:09.833856",
     "exception": false,
     "start_time": "2023-08-16T19:53:05.146122",
     "status": "completed"
    },
    "tags": []
   },
   "outputs": [],
   "source": [
    "#Use regex to clean the data\n",
    "def remove_url(text):\n",
    "    url = re.compile(r'https?://\\S+|www\\.\\S+')\n",
    "    return url.sub(r'',text)\n",
    "\n",
    "def remove_punct(text):\n",
    "    table = str.maketrans('', '', string.punctuation)\n",
    "    return text.translate(table)\n",
    "def remove_html(text):\n",
    "    html=re.compile(r'<.*?>')\n",
    "    return html.sub(r'',text)\n",
    "\n",
    "def remove_emoji(text):\n",
    "    emoji_pattern = re.compile(\"[\"\n",
    "                           u\"\\U0001F600-\\U0001F64F\"  # emoticons\n",
    "                           u\"\\U0001F300-\\U0001F5FF\"  # symbols & pictographs\n",
    "                           u\"\\U0001F680-\\U0001F6FF\"  # transport & map symbols\n",
    "                           u\"\\U0001F1E0-\\U0001F1FF\"  # flags (iOS)\n",
    "                           u\"\\U00002702-\\U000027B0\"\n",
    "                           u\"\\U000024C2-\\U0001F251\"\n",
    "                           \"]+\", flags=re.UNICODE)\n",
    "    return emoji_pattern.sub(r'', text)\n",
    "\n",
    "def decontraction(text):\n",
    "    text = re.sub(r\"won\\'t\", \" will not\", text)\n",
    "    text = re.sub(r\"won\\'t've\", \" will not have\", text)\n",
    "    text = re.sub(r\"can\\'t\", \" can not\", text)\n",
    "    text = re.sub(r\"don\\'t\", \" do not\", text)\n",
    "    \n",
    "    text = re.sub(r\"can\\'t've\", \" can not have\", text)\n",
    "    text = re.sub(r\"ma\\'am\", \" madam\", text)\n",
    "    text = re.sub(r\"let\\'s\", \" let us\", text)\n",
    "    text = re.sub(r\"ain\\'t\", \" am not\", text)\n",
    "    text = re.sub(r\"shan\\'t\", \" shall not\", text)\n",
    "    text = re.sub(r\"sha\\n't\", \" shall not\", text)\n",
    "    text = re.sub(r\"o\\'clock\", \" of the clock\", text)\n",
    "    text = re.sub(r\"y\\'all\", \" you all\", text)\n",
    "\n",
    "    text = re.sub(r\"n\\'t\", \" not\", text)\n",
    "    text = re.sub(r\"n\\'t've\", \" not have\", text)\n",
    "    text = re.sub(r\"\\'re\", \" are\", text)\n",
    "    text = re.sub(r\"\\'s\", \" is\", text)\n",
    "    text = re.sub(r\"\\'d\", \" would\", text)\n",
    "    text = re.sub(r\"\\'d've\", \" would have\", text)\n",
    "    text = re.sub(r\"\\'ll\", \" will\", text)\n",
    "    text = re.sub(r\"\\'ll've\", \" will have\", text)\n",
    "    text = re.sub(r\"\\'t\", \" not\", text)\n",
    "    text = re.sub(r\"\\'ve\", \" have\", text)\n",
    "    text = re.sub(r\"\\'m\", \" am\", text)\n",
    "    text = re.sub(r\"\\'re\", \" are\", text)\n",
    "    return text \n",
    "\n",
    "def seperate_alphanumeric(text):\n",
    "    words = text\n",
    "    words = re.findall(r\"[^\\W\\d_]+|\\d+\", words)\n",
    "    return \" \".join(words)\n",
    "\n",
    "def cont_rep_char(text):\n",
    "    tchr = text.group(0)     \n",
    "    if len(tchr) > 1:\n",
    "        return tchr[0:2] \n",
    "\n",
    "def unique_char(rep, text):\n",
    "    substitute = re.sub(r'(\\w)\\1+', rep, text)\n",
    "    return substitute\n",
    "\n",
    "train['text'] = train['text'].apply(lambda x : remove_url(x))\n",
    "train['text'] = train['text'].apply(lambda x : remove_punct(x))\n",
    "train['text'] = train['text'].apply(lambda x : remove_emoji(x))\n",
    "train['text'] = train['text'].apply(lambda x : decontraction(x))\n",
    "train['text'] = train['text'].apply(lambda x : seperate_alphanumeric(x))\n",
    "train['text'] = train['text'].apply(lambda x : unique_char(cont_rep_char,x))\n",
    "\n",
    "test['text'] = test['text'].apply(lambda x : remove_url(x))\n",
    "test['text'] = test['text'].apply(lambda x : remove_punct(x))\n",
    "test['text'] = test['text'].apply(lambda x : remove_emoji(x))\n",
    "test['text'] = test['text'].apply(lambda x : decontraction(x))\n",
    "test['text'] = test['text'].apply(lambda x : seperate_alphanumeric(x))\n",
    "test['text'] = test['text'].apply(lambda x : unique_char(cont_rep_char,x))"
   ]
  },
  {
   "cell_type": "markdown",
   "id": "c808f81c",
   "metadata": {
    "id": "hVPv8uq4t4yA",
    "papermill": {
     "duration": 0.023712,
     "end_time": "2023-08-16T19:53:09.881926",
     "exception": false,
     "start_time": "2023-08-16T19:53:09.858214",
     "status": "completed"
    },
    "tags": []
   },
   "source": [
    "# ✂️ Tokenization"
   ]
  },
  {
   "cell_type": "code",
   "execution_count": 16,
   "id": "a7870fb1",
   "metadata": {
    "execution": {
     "iopub.execute_input": "2023-08-16T19:53:09.935387Z",
     "iopub.status.busy": "2023-08-16T19:53:09.934985Z",
     "iopub.status.idle": "2023-08-16T19:53:38.511531Z",
     "shell.execute_reply": "2023-08-16T19:53:38.510399Z"
    },
    "id": "uUmiRiaZt4yA",
    "outputId": "7254e1c5-31fc-4197-b2db-ecea336484f6",
    "papermill": {
     "duration": 28.606718,
     "end_time": "2023-08-16T19:53:38.514430",
     "exception": false,
     "start_time": "2023-08-16T19:53:09.907712",
     "status": "completed"
    },
    "tags": []
   },
   "outputs": [
    {
     "name": "stderr",
     "output_type": "stream",
     "text": [
      "Downloading (…)lve/main/config.json: 100%|██████████| 929/929 [00:00<00:00, 114kB/s]\n",
      "Downloading (…)olve/main/vocab.json: 100%|██████████| 899k/899k [00:00<00:00, 15.0MB/s]\n",
      "Downloading (…)olve/main/merges.txt: 100%|██████████| 456k/456k [00:00<00:00, 154MB/s]\n",
      "Downloading (…)cial_tokens_map.json: 100%|██████████| 239/239 [00:00<00:00, 156kB/s]\n"
     ]
    }
   ],
   "source": [
    "seq_len = 256 #max([len(text) for text in train['text']]) #256\n",
    "batch_size = 16 #16\n",
    "num_samples = len(train)\n",
    "\n",
    "model_name = 'cardiffnlp/twitter-roberta-base-sentiment-latest'\n",
    "tokenizer = transformers.AutoTokenizer.from_pretrained(model_name)\n",
    "\n",
    "train_tokens = tokenizer(\n",
    "    train['text'].tolist(), \n",
    "    max_length=seq_len, \n",
    "    truncation=True, \n",
    "    padding='max_length', \n",
    "    add_special_tokens=True, \n",
    "    return_tensors='np'\n",
    ")\n",
    "\n",
    "from sklearn.preprocessing import LabelEncoder\n",
    "le = LabelEncoder()\n",
    "train['target'] = le.fit_transform(train['target'])\n",
    "test['target'] = le.fit_transform(test['target'])\n",
    "\n",
    "y_train = train['target'].values\n",
    "labels = np.zeros((num_samples, y_train.max() + 1))\n",
    "labels[np.arange(num_samples), y_train] = 1\n",
    "\n",
    "dataset = tf.data.Dataset.from_tensor_slices(\n",
    "    (\n",
    "        train_tokens['input_ids'], \n",
    "        train_tokens['attention_mask'], \n",
    "        labels\n",
    "    )\n",
    ")\n",
    "\n",
    "def map_func(input_ids, masks, labels):\n",
    "    return {\n",
    "        'input_ids': input_ids,\n",
    "        'attention_mask': masks\n",
    "    }, labels\n",
    "\n",
    "dataset = dataset.map(map_func)\n",
    "dataset = dataset.shuffle(10000).batch(batch_size=batch_size, drop_remainder=True)\n",
    "\n",
    "split = 0.7\n",
    "size = int((train_tokens['input_ids'].shape[0] // batch_size) * split)\n",
    "\n",
    "train_ds = dataset.take(size)\n",
    "val_ds = dataset.skip(size)"
   ]
  },
  {
   "cell_type": "code",
   "execution_count": 17,
   "id": "515e7d6a",
   "metadata": {
    "execution": {
     "iopub.execute_input": "2023-08-16T19:53:38.558417Z",
     "iopub.status.busy": "2023-08-16T19:53:38.557286Z",
     "iopub.status.idle": "2023-08-16T19:53:38.563703Z",
     "shell.execute_reply": "2023-08-16T19:53:38.562793Z"
    },
    "id": "h7TT0CcTZJYZ",
    "outputId": "8245a5be-d8d7-4fe9-8084-7234b3b0b18b",
    "papermill": {
     "duration": 0.030412,
     "end_time": "2023-08-16T19:53:38.565825",
     "exception": false,
     "start_time": "2023-08-16T19:53:38.535413",
     "status": "completed"
    },
    "tags": []
   },
   "outputs": [
    {
     "data": {
      "text/plain": [
       "1299"
      ]
     },
     "execution_count": 17,
     "metadata": {},
     "output_type": "execute_result"
    }
   ],
   "source": [
    "size"
   ]
  },
  {
   "cell_type": "code",
   "execution_count": 18,
   "id": "93708e22",
   "metadata": {
    "execution": {
     "iopub.execute_input": "2023-08-16T19:53:38.606747Z",
     "iopub.status.busy": "2023-08-16T19:53:38.606403Z",
     "iopub.status.idle": "2023-08-16T19:53:38.612802Z",
     "shell.execute_reply": "2023-08-16T19:53:38.611813Z"
    },
    "id": "VOHSrQ0ow7JH",
    "outputId": "99998211-4096-4541-ac48-19d86d477f0c",
    "papermill": {
     "duration": 0.029921,
     "end_time": "2023-08-16T19:53:38.615033",
     "exception": false,
     "start_time": "2023-08-16T19:53:38.585112",
     "status": "completed"
    },
    "tags": []
   },
   "outputs": [
    {
     "data": {
      "text/plain": [
       "(29719, 3)"
      ]
     },
     "execution_count": 18,
     "metadata": {},
     "output_type": "execute_result"
    }
   ],
   "source": [
    "labels.shape"
   ]
  },
  {
   "cell_type": "markdown",
   "id": "aef91e2d",
   "metadata": {
    "id": "90WNnnd4t4yA",
    "papermill": {
     "duration": 0.01944,
     "end_time": "2023-08-16T19:53:38.654952",
     "exception": false,
     "start_time": "2023-08-16T19:53:38.635512",
     "status": "completed"
    },
    "tags": []
   },
   "source": [
    "# 🤖 Model Building"
   ]
  },
  {
   "cell_type": "markdown",
   "id": "06aa39cb",
   "metadata": {
    "papermill": {
     "duration": 0.020378,
     "end_time": "2023-08-16T19:53:38.695762",
     "exception": false,
     "start_time": "2023-08-16T19:53:38.675384",
     "status": "completed"
    },
    "tags": []
   },
   "source": [
    "## BiLSTM+CNN"
   ]
  },
  {
   "cell_type": "code",
   "execution_count": 19,
   "id": "a65f6754",
   "metadata": {
    "execution": {
     "iopub.execute_input": "2023-08-16T19:53:38.736392Z",
     "iopub.status.busy": "2023-08-16T19:53:38.735976Z",
     "iopub.status.idle": "2023-08-16T20:32:47.664669Z",
     "shell.execute_reply": "2023-08-16T20:32:47.663393Z"
    },
    "papermill": {
     "duration": 2348.951556,
     "end_time": "2023-08-16T20:32:47.667077",
     "exception": false,
     "start_time": "2023-08-16T19:53:38.715521",
     "status": "completed"
    },
    "scrolled": true,
    "tags": []
   },
   "outputs": [
    {
     "name": "stdout",
     "output_type": "stream",
     "text": [
      "INFO:tensorflow:Deallocate tpu buffers before initializing tpu system.\n",
      "INFO:tensorflow:Initializing the TPU system: local\n",
      "INFO:tensorflow:Finished initializing TPU system.\n"
     ]
    },
    {
     "name": "stderr",
     "output_type": "stream",
     "text": [
      "WARNING:absl:`tf.distribute.experimental.TPUStrategy` is deprecated, please use  the non experimental symbol `tf.distribute.TPUStrategy` instead.\n"
     ]
    },
    {
     "name": "stdout",
     "output_type": "stream",
     "text": [
      "INFO:tensorflow:Found TPU system:\n"
     ]
    },
    {
     "name": "stderr",
     "output_type": "stream",
     "text": [
      "INFO:tensorflow:Found TPU system:\n"
     ]
    },
    {
     "name": "stdout",
     "output_type": "stream",
     "text": [
      "INFO:tensorflow:*** Num TPU Cores: 8\n"
     ]
    },
    {
     "name": "stderr",
     "output_type": "stream",
     "text": [
      "INFO:tensorflow:*** Num TPU Cores: 8\n"
     ]
    },
    {
     "name": "stdout",
     "output_type": "stream",
     "text": [
      "INFO:tensorflow:*** Num TPU Workers: 1\n"
     ]
    },
    {
     "name": "stderr",
     "output_type": "stream",
     "text": [
      "INFO:tensorflow:*** Num TPU Workers: 1\n"
     ]
    },
    {
     "name": "stdout",
     "output_type": "stream",
     "text": [
      "INFO:tensorflow:*** Num TPU Cores Per Worker: 8\n"
     ]
    },
    {
     "name": "stderr",
     "output_type": "stream",
     "text": [
      "INFO:tensorflow:*** Num TPU Cores Per Worker: 8\n"
     ]
    },
    {
     "name": "stdout",
     "output_type": "stream",
     "text": [
      "INFO:tensorflow:*** Available Device: _DeviceAttributes(/job:localhost/replica:0/task:0/device:CPU:0, CPU, 0, 0)\n"
     ]
    },
    {
     "name": "stderr",
     "output_type": "stream",
     "text": [
      "INFO:tensorflow:*** Available Device: _DeviceAttributes(/job:localhost/replica:0/task:0/device:CPU:0, CPU, 0, 0)\n"
     ]
    },
    {
     "name": "stdout",
     "output_type": "stream",
     "text": [
      "INFO:tensorflow:*** Available Device: _DeviceAttributes(/job:localhost/replica:0/task:0/device:TPU:0, TPU, 0, 0)\n"
     ]
    },
    {
     "name": "stderr",
     "output_type": "stream",
     "text": [
      "INFO:tensorflow:*** Available Device: _DeviceAttributes(/job:localhost/replica:0/task:0/device:TPU:0, TPU, 0, 0)\n"
     ]
    },
    {
     "name": "stdout",
     "output_type": "stream",
     "text": [
      "INFO:tensorflow:*** Available Device: _DeviceAttributes(/job:localhost/replica:0/task:0/device:TPU:1, TPU, 0, 0)\n"
     ]
    },
    {
     "name": "stderr",
     "output_type": "stream",
     "text": [
      "INFO:tensorflow:*** Available Device: _DeviceAttributes(/job:localhost/replica:0/task:0/device:TPU:1, TPU, 0, 0)\n"
     ]
    },
    {
     "name": "stdout",
     "output_type": "stream",
     "text": [
      "INFO:tensorflow:*** Available Device: _DeviceAttributes(/job:localhost/replica:0/task:0/device:TPU:2, TPU, 0, 0)\n"
     ]
    },
    {
     "name": "stderr",
     "output_type": "stream",
     "text": [
      "INFO:tensorflow:*** Available Device: _DeviceAttributes(/job:localhost/replica:0/task:0/device:TPU:2, TPU, 0, 0)\n"
     ]
    },
    {
     "name": "stdout",
     "output_type": "stream",
     "text": [
      "INFO:tensorflow:*** Available Device: _DeviceAttributes(/job:localhost/replica:0/task:0/device:TPU:3, TPU, 0, 0)\n"
     ]
    },
    {
     "name": "stderr",
     "output_type": "stream",
     "text": [
      "INFO:tensorflow:*** Available Device: _DeviceAttributes(/job:localhost/replica:0/task:0/device:TPU:3, TPU, 0, 0)\n"
     ]
    },
    {
     "name": "stdout",
     "output_type": "stream",
     "text": [
      "INFO:tensorflow:*** Available Device: _DeviceAttributes(/job:localhost/replica:0/task:0/device:TPU:4, TPU, 0, 0)\n"
     ]
    },
    {
     "name": "stderr",
     "output_type": "stream",
     "text": [
      "INFO:tensorflow:*** Available Device: _DeviceAttributes(/job:localhost/replica:0/task:0/device:TPU:4, TPU, 0, 0)\n"
     ]
    },
    {
     "name": "stdout",
     "output_type": "stream",
     "text": [
      "INFO:tensorflow:*** Available Device: _DeviceAttributes(/job:localhost/replica:0/task:0/device:TPU:5, TPU, 0, 0)\n"
     ]
    },
    {
     "name": "stderr",
     "output_type": "stream",
     "text": [
      "INFO:tensorflow:*** Available Device: _DeviceAttributes(/job:localhost/replica:0/task:0/device:TPU:5, TPU, 0, 0)\n"
     ]
    },
    {
     "name": "stdout",
     "output_type": "stream",
     "text": [
      "INFO:tensorflow:*** Available Device: _DeviceAttributes(/job:localhost/replica:0/task:0/device:TPU:6, TPU, 0, 0)\n"
     ]
    },
    {
     "name": "stderr",
     "output_type": "stream",
     "text": [
      "INFO:tensorflow:*** Available Device: _DeviceAttributes(/job:localhost/replica:0/task:0/device:TPU:6, TPU, 0, 0)\n"
     ]
    },
    {
     "name": "stdout",
     "output_type": "stream",
     "text": [
      "INFO:tensorflow:*** Available Device: _DeviceAttributes(/job:localhost/replica:0/task:0/device:TPU:7, TPU, 0, 0)\n"
     ]
    },
    {
     "name": "stderr",
     "output_type": "stream",
     "text": [
      "INFO:tensorflow:*** Available Device: _DeviceAttributes(/job:localhost/replica:0/task:0/device:TPU:7, TPU, 0, 0)\n"
     ]
    },
    {
     "name": "stdout",
     "output_type": "stream",
     "text": [
      "INFO:tensorflow:*** Available Device: _DeviceAttributes(/job:localhost/replica:0/task:0/device:TPU_SYSTEM:0, TPU_SYSTEM, 0, 0)\n"
     ]
    },
    {
     "name": "stderr",
     "output_type": "stream",
     "text": [
      "INFO:tensorflow:*** Available Device: _DeviceAttributes(/job:localhost/replica:0/task:0/device:TPU_SYSTEM:0, TPU_SYSTEM, 0, 0)\n",
      "Downloading tf_model.h5: 100%|██████████| 499M/499M [00:06<00:00, 76.6MB/s]\n",
      "All model checkpoint layers were used when initializing TFRobertaModel.\n",
      "\n",
      "All the layers of TFRobertaModel were initialized from the model checkpoint at cardiffnlp/twitter-roberta-base-sentiment-latest.\n",
      "If your task is similar to the task the model of the checkpoint was trained on, you can already use TFRobertaModel for predictions without further training.\n"
     ]
    },
    {
     "name": "stdout",
     "output_type": "stream",
     "text": [
      "Epoch 1/50\n",
      "WARNING:tensorflow:Gradients do not exist for variables ['tf_roberta_model/roberta/pooler/dense/kernel:0', 'tf_roberta_model/roberta/pooler/dense/bias:0'] when minimizing the loss. If you're using `model.compile()`, did you forget to provide a `loss` argument?\n"
     ]
    },
    {
     "name": "stderr",
     "output_type": "stream",
     "text": [
      "WARNING:tensorflow:Gradients do not exist for variables ['tf_roberta_model/roberta/pooler/dense/kernel:0', 'tf_roberta_model/roberta/pooler/dense/bias:0'] when minimizing the loss. If you're using `model.compile()`, did you forget to provide a `loss` argument?\n"
     ]
    },
    {
     "name": "stdout",
     "output_type": "stream",
     "text": [
      "WARNING:tensorflow:Gradients do not exist for variables ['tf_roberta_model/roberta/pooler/dense/kernel:0', 'tf_roberta_model/roberta/pooler/dense/bias:0'] when minimizing the loss. If you're using `model.compile()`, did you forget to provide a `loss` argument?\n"
     ]
    },
    {
     "name": "stderr",
     "output_type": "stream",
     "text": [
      "WARNING:tensorflow:Gradients do not exist for variables ['tf_roberta_model/roberta/pooler/dense/kernel:0', 'tf_roberta_model/roberta/pooler/dense/bias:0'] when minimizing the loss. If you're using `model.compile()`, did you forget to provide a `loss` argument?\n"
     ]
    },
    {
     "name": "stdout",
     "output_type": "stream",
     "text": [
      "WARNING:tensorflow:Gradients do not exist for variables ['tf_roberta_model/roberta/pooler/dense/kernel:0', 'tf_roberta_model/roberta/pooler/dense/bias:0'] when minimizing the loss. If you're using `model.compile()`, did you forget to provide a `loss` argument?\n"
     ]
    },
    {
     "name": "stderr",
     "output_type": "stream",
     "text": [
      "WARNING:tensorflow:Gradients do not exist for variables ['tf_roberta_model/roberta/pooler/dense/kernel:0', 'tf_roberta_model/roberta/pooler/dense/bias:0'] when minimizing the loss. If you're using `model.compile()`, did you forget to provide a `loss` argument?\n"
     ]
    },
    {
     "name": "stdout",
     "output_type": "stream",
     "text": [
      "WARNING:tensorflow:Gradients do not exist for variables ['tf_roberta_model/roberta/pooler/dense/kernel:0', 'tf_roberta_model/roberta/pooler/dense/bias:0'] when minimizing the loss. If you're using `model.compile()`, did you forget to provide a `loss` argument?\n"
     ]
    },
    {
     "name": "stderr",
     "output_type": "stream",
     "text": [
      "WARNING:tensorflow:Gradients do not exist for variables ['tf_roberta_model/roberta/pooler/dense/kernel:0', 'tf_roberta_model/roberta/pooler/dense/bias:0'] when minimizing the loss. If you're using `model.compile()`, did you forget to provide a `loss` argument?\n",
      "2023-08-16 19:54:51.222478: E tensorflow/core/grappler/optimizers/meta_optimizer.cc:954] model_pruner failed: INVALID_ARGUMENT: Graph does not contain terminal node AssignAddVariableOp.\n",
      "2023-08-16 19:54:52.221876: E tensorflow/core/grappler/optimizers/meta_optimizer.cc:954] model_pruner failed: INVALID_ARGUMENT: Graph does not contain terminal node AssignAddVariableOp.\n"
     ]
    },
    {
     "name": "stdout",
     "output_type": "stream",
     "text": [
      "1299/1299 [==============================] - ETA: 0s - loss: 0.7147 - categorical_accuracy: 0.6913"
     ]
    },
    {
     "name": "stderr",
     "output_type": "stream",
     "text": [
      "2023-08-16 19:57:02.462707: E tensorflow/core/grappler/optimizers/meta_optimizer.cc:954] model_pruner failed: INVALID_ARGUMENT: Graph does not contain terminal node AssignAddVariableOp.\n",
      "2023-08-16 19:57:02.652565: E tensorflow/core/grappler/optimizers/meta_optimizer.cc:954] model_pruner failed: INVALID_ARGUMENT: Graph does not contain terminal node AssignAddVariableOp.\n"
     ]
    },
    {
     "name": "stdout",
     "output_type": "stream",
     "text": [
      "1299/1299 [==============================] - 177s 74ms/step - loss: 0.7147 - categorical_accuracy: 0.6913 - val_loss: 0.3608 - val_categorical_accuracy: 0.8741\n",
      "Epoch 2/50\n",
      "1299/1299 [==============================] - 86s 66ms/step - loss: 0.3506 - categorical_accuracy: 0.8875 - val_loss: 0.2156 - val_categorical_accuracy: 0.9312\n",
      "Epoch 3/50\n",
      "1299/1299 [==============================] - 86s 66ms/step - loss: 0.2373 - categorical_accuracy: 0.9285 - val_loss: 0.1741 - val_categorical_accuracy: 0.9397\n",
      "Epoch 4/50\n",
      "1299/1299 [==============================] - 86s 66ms/step - loss: 0.1810 - categorical_accuracy: 0.9451 - val_loss: 0.1158 - val_categorical_accuracy: 0.9652\n",
      "Epoch 5/50\n",
      "1299/1299 [==============================] - 86s 66ms/step - loss: 0.1528 - categorical_accuracy: 0.9538 - val_loss: 0.1586 - val_categorical_accuracy: 0.9407\n",
      "Epoch 6/50\n",
      "1299/1299 [==============================] - 86s 66ms/step - loss: 0.1268 - categorical_accuracy: 0.9624 - val_loss: 0.0900 - val_categorical_accuracy: 0.9717\n",
      "Epoch 7/50\n",
      "1299/1299 [==============================] - 88s 68ms/step - loss: 0.1036 - categorical_accuracy: 0.9710 - val_loss: 0.1059 - val_categorical_accuracy: 0.9658\n",
      "Epoch 8/50\n",
      "1299/1299 [==============================] - 90s 69ms/step - loss: 0.0925 - categorical_accuracy: 0.9724 - val_loss: 0.0883 - val_categorical_accuracy: 0.9755\n",
      "Epoch 9/50\n",
      "1299/1299 [==============================] - 88s 68ms/step - loss: 0.0865 - categorical_accuracy: 0.9738 - val_loss: 0.0966 - val_categorical_accuracy: 0.9728\n",
      "Epoch 10/50\n",
      "1299/1299 [==============================] - 87s 67ms/step - loss: 0.0736 - categorical_accuracy: 0.9792 - val_loss: 0.0643 - val_categorical_accuracy: 0.9816\n",
      "Epoch 11/50\n",
      "1299/1299 [==============================] - 90s 69ms/step - loss: 0.0681 - categorical_accuracy: 0.9820 - val_loss: 0.0606 - val_categorical_accuracy: 0.9831\n",
      "Epoch 12/50\n",
      "1299/1299 [==============================] - 89s 68ms/step - loss: 0.0676 - categorical_accuracy: 0.9804 - val_loss: 0.0428 - val_categorical_accuracy: 0.9873\n",
      "Epoch 13/50\n",
      "1299/1299 [==============================] - 89s 69ms/step - loss: 0.0587 - categorical_accuracy: 0.9838 - val_loss: 0.0499 - val_categorical_accuracy: 0.9856\n",
      "Epoch 14/50\n",
      "1299/1299 [==============================] - 88s 67ms/step - loss: 0.0572 - categorical_accuracy: 0.9847 - val_loss: 0.0466 - val_categorical_accuracy: 0.9859\n",
      "Epoch 15/50\n",
      "1299/1299 [==============================] - 88s 68ms/step - loss: 0.0518 - categorical_accuracy: 0.9861 - val_loss: 0.0496 - val_categorical_accuracy: 0.9864\n",
      "Epoch 16/50\n",
      "1299/1299 [==============================] - 89s 69ms/step - loss: 0.0464 - categorical_accuracy: 0.9881 - val_loss: 0.0368 - val_categorical_accuracy: 0.9889\n",
      "Epoch 17/50\n",
      "1299/1299 [==============================] - 88s 68ms/step - loss: 0.0436 - categorical_accuracy: 0.9886 - val_loss: 0.0460 - val_categorical_accuracy: 0.9880\n",
      "Epoch 18/50\n",
      "1299/1299 [==============================] - 88s 68ms/step - loss: 0.0488 - categorical_accuracy: 0.9883 - val_loss: 0.0503 - val_categorical_accuracy: 0.9858\n",
      "Epoch 19/50\n",
      "1299/1299 [==============================] - 87s 67ms/step - loss: 0.0425 - categorical_accuracy: 0.9891 - val_loss: 0.2174 - val_categorical_accuracy: 0.9291\n",
      "Epoch 20/50\n",
      "1299/1299 [==============================] - 88s 68ms/step - loss: 0.0406 - categorical_accuracy: 0.9895 - val_loss: 0.0244 - val_categorical_accuracy: 0.9943\n",
      "Epoch 21/50\n",
      "1299/1299 [==============================] - 89s 68ms/step - loss: 0.0334 - categorical_accuracy: 0.9914 - val_loss: 0.0335 - val_categorical_accuracy: 0.9892\n",
      "Epoch 22/50\n",
      "1299/1299 [==============================] - 88s 67ms/step - loss: 0.0340 - categorical_accuracy: 0.9911 - val_loss: 0.0357 - val_categorical_accuracy: 0.9906\n",
      "Epoch 23/50\n",
      "1299/1299 [==============================] - 87s 67ms/step - loss: 0.0412 - categorical_accuracy: 0.9889 - val_loss: 0.0355 - val_categorical_accuracy: 0.9924\n",
      "Epoch 24/50\n",
      "1299/1299 [==============================] - 89s 69ms/step - loss: 0.0346 - categorical_accuracy: 0.9909 - val_loss: 0.0351 - val_categorical_accuracy: 0.9920\n",
      "Epoch 25/50\n",
      "1299/1299 [==============================] - ETA: 0s - loss: 0.0360 - categorical_accuracy: 0.9915Restoring model weights from the end of the best epoch: 20.\n",
      "1299/1299 [==============================] - 94s 72ms/step - loss: 0.0360 - categorical_accuracy: 0.9915 - val_loss: 0.0488 - val_categorical_accuracy: 0.9852\n",
      "Epoch 25: early stopping\n"
     ]
    }
   ],
   "source": [
    "# detect and init the TPU\n",
    "tpu = tf.distribute.cluster_resolver.TPUClusterResolver.connect()\n",
    "# instantiate a distribution strategy\n",
    "tpu_strategy = tf.distribute.experimental.TPUStrategy(tpu)\n",
    "\n",
    "# instantiating the model in the strategy scope creates the model on the TPU\n",
    "with tpu_strategy.scope():\n",
    "    model_name = 'cardiffnlp/twitter-roberta-base-sentiment-latest'\n",
    "    bert_model = TFAutoModel.from_pretrained(model_name)\n",
    "\n",
    "    # Input layers\n",
    "    input_ids = tf.keras.layers.Input(shape=(seq_len,), name='input_ids', dtype='int32')\n",
    "    mask = tf.keras.layers.Input(shape=(seq_len,), name='attention_mask', dtype='int32')\n",
    "\n",
    "    # Transformer\n",
    "    embeddings = bert_model(input_ids, attention_mask=mask)[0]\n",
    "    embeddings = tf.keras.layers.GlobalAveragePooling1D()(embeddings)\n",
    "    embeddings = tf.keras.layers.Reshape((1, -1))(embeddings)\n",
    "\n",
    "    # Add BiLSTM layer 1\n",
    "    lstm_units_1 = 512\n",
    "    bilstm_1 = tf.keras.layers.Bidirectional(tf.keras.layers.LSTM(units=lstm_units_1, return_sequences=True))(embeddings)\n",
    "    bilstm_1 = tf.keras.layers.Dropout(rate=0.2)(bilstm_1)\n",
    "\n",
    "    # Add convolution layers\n",
    "    num_filters = 64\n",
    "    filter_sizes = [5, 5, 3]\n",
    "    conv_activation = 'relu'\n",
    "    dropout_rate = 0.2\n",
    "\n",
    "    conv1 = tf.keras.layers.Conv1D(filters=num_filters, kernel_size=filter_sizes[0], activation=conv_activation, padding='same')(bilstm_1)\n",
    "    conv1 = tf.keras.layers.Dropout(rate=dropout_rate)(conv1)\n",
    "\n",
    "    conv2 = tf.keras.layers.Conv1D(filters=num_filters*2, kernel_size=filter_sizes[1], activation=conv_activation, padding='same')(conv1)\n",
    "    conv2 = tf.keras.layers.Dropout(rate=dropout_rate)(conv2)\n",
    "\n",
    "    conv3 = tf.keras.layers.Conv1D(filters=num_filters*4, kernel_size=filter_sizes[2], activation=conv_activation, padding='same')(conv2)\n",
    "    conv3 = tf.keras.layers.MaxPooling1D(pool_size=3, strides=1, padding='same')(conv3)\n",
    "    conv3 = tf.keras.layers.Dropout(rate=dropout_rate)(conv3)\n",
    "\n",
    "    # Add dense layers\n",
    "    hidden_units = [128, 64]\n",
    "    dense_activation = 'relu'\n",
    "\n",
    "    flatten = tf.keras.layers.Flatten()(conv3)\n",
    "    dense1 = tf.keras.layers.Dense(units=hidden_units[0], activation=dense_activation)(flatten)\n",
    "    dense1 = tf.keras.layers.Dropout(rate=dropout_rate)(dense1)\n",
    "\n",
    "    dense2 = tf.keras.layers.Dense(units=hidden_units[1], activation=dense_activation)(dense1)\n",
    "    dense2 = tf.keras.layers.Dropout(rate=dropout_rate)(dense2)\n",
    "\n",
    "    # Add Output layer\n",
    "    outputs = tf.keras.layers.Dense(3, activation='softmax', name='outputs')(dense2)\n",
    "\n",
    "    # Define model\n",
    "    model = tf.keras.models.Model(inputs=[input_ids, mask], outputs=outputs)\n",
    "\n",
    "    # Compile the model\n",
    "    learning_rate = 4e-5 # 4e-5\n",
    "    optimizer = tf.keras.optimizers.Adam(learning_rate=learning_rate)\n",
    "    loss = tf.keras.losses.CategoricalCrossentropy()\n",
    "    acc = tf.keras.metrics.CategoricalAccuracy()\n",
    "    model.compile(optimizer=optimizer, loss=loss, metrics=[acc])\n",
    "\n",
    "# Define early stopping\n",
    "early_stop = EarlyStopping(monitor='val_loss', patience=5, verbose=1, restore_best_weights=True)\n",
    "#lr_callback = tf.keras.callbacks.LearningRateScheduler(lr_exp_decay)\n",
    "\n",
    "# Fit the model with early stopping\n",
    "history = model.fit(\n",
    "    train_ds,\n",
    "    validation_data=val_ds,\n",
    "    epochs= 50,\n",
    "    batch_size=batch_size,\n",
    "    callbacks=[early_stop]\n",
    "    #callbacks=[lr_callback] #\n",
    ")"
   ]
  },
  {
   "cell_type": "code",
   "execution_count": 20,
   "id": "3195b0e9",
   "metadata": {
    "execution": {
     "iopub.execute_input": "2023-08-16T20:32:54.151031Z",
     "iopub.status.busy": "2023-08-16T20:32:54.150594Z",
     "iopub.status.idle": "2023-08-16T21:37:27.530073Z",
     "shell.execute_reply": "2023-08-16T21:37:27.528834Z"
    },
    "papermill": {
     "duration": 3879.219894,
     "end_time": "2023-08-16T21:37:30.047710",
     "exception": false,
     "start_time": "2023-08-16T20:32:50.827816",
     "status": "completed"
    },
    "tags": []
   },
   "outputs": [
    {
     "name": "stderr",
     "output_type": "stream",
     "text": [
      "2023-08-16 20:32:59.259684: E tensorflow/core/grappler/optimizers/meta_optimizer.cc:954] model_pruner failed: INVALID_ARGUMENT: Graph does not contain terminal node AssignAddVariableOp.\n",
      "2023-08-16 20:32:59.541099: E tensorflow/core/grappler/optimizers/meta_optimizer.cc:954] model_pruner failed: INVALID_ARGUMENT: Graph does not contain terminal node AssignAddVariableOp.\n"
     ]
    },
    {
     "name": "stdout",
     "output_type": "stream",
     "text": [
      "              precision    recall  f1-score   support\n",
      "\n",
      "    Negative       0.90      0.89      0.90      1597\n",
      "     Neutral       0.97      0.97      0.97      2654\n",
      "    Positive       0.94      0.95      0.95      3179\n",
      "\n",
      "    accuracy                           0.94      7430\n",
      "   macro avg       0.94      0.94      0.94      7430\n",
      "weighted avg       0.94      0.94      0.94      7430\n",
      "\n",
      "\n",
      "\n",
      "\n"
     ]
    },
    {
     "data": {
      "image/png": "[encoded data removed]",
      "text/plain": [
       "<Figure size 700x500 with 2 Axes>"
      ]
     },
     "metadata": {},
     "output_type": "display_data"
    },
    {
     "name": "stdout",
     "output_type": "stream",
     "text": [
      "\n",
      "\n",
      "\n"
     ]
    },
    {
     "data": {
      "image/png": "[encoded data removed]",
      "text/plain": [
       "<Figure size 640x480 with 2 Axes>"
      ]
     },
     "metadata": {},
     "output_type": "display_data"
    }
   ],
   "source": [
    "# For Data Visualization\n",
    "bert_model = model\n",
    "\n",
    "import matplotlib.pyplot as plt\n",
    "import matplotlib\n",
    "import plotly.express as px\n",
    "import plotly.graph_objects as go\n",
    "import seaborn as sns\n",
    "\n",
    "# Miscellaneous\n",
    "from tqdm import tqdm\n",
    "import os\n",
    "import random\n",
    "from IPython import display\n",
    "\n",
    "def prep_data(text):\n",
    "    tokens = tokenizer(\n",
    "        text, max_length=seq_len, truncation=True, \n",
    "        padding='max_length', \n",
    "        add_special_tokens=True, \n",
    "        return_tensors='tf'\n",
    "    )\n",
    "    return {\n",
    "        'input_ids': tokens['input_ids'], \n",
    "        'attention_mask': tokens['attention_mask']\n",
    "    }\n",
    "\n",
    "test['prediction'] = None\n",
    "\n",
    "for i, row in test.iterrows():\n",
    "    tokens = prep_data(row['text'])\n",
    "    #probs = bert_model.predict(tokens)\n",
    "    probs = bert_model.predict_on_batch(tokens)\n",
    "    pred = np.argmax(probs)\n",
    "    test.at[i, 'prediction'] = pred\n",
    "    \n",
    "test['prediction'] = test['prediction'].astype(int)\n",
    "\n",
    "labels = ['Negative','Neutral','Positive']\n",
    "from sklearn.metrics import classification_report\n",
    "print(classification_report(test['target'], test['prediction'], target_names=labels))\n",
    "\n",
    "print()\n",
    "print()\n",
    "print()\n",
    "\n",
    "from sklearn.metrics import *\n",
    "cm = confusion_matrix(test['target'], test['prediction'])\n",
    "\n",
    "plt.figure(figsize=(7,5))\n",
    "\n",
    "ax = sns.heatmap(cm/np.sum(cm),fmt='.2%', annot=True, cmap='Blues')\n",
    "\n",
    "ax.set_xlabel('\\nPredicted Values')\n",
    "ax.set_ylabel('Actual Values\\n');\n",
    "\n",
    "ax.xaxis.set_ticklabels(labels)\n",
    "ax.yaxis.set_ticklabels(labels)\n",
    "\n",
    "plt.savefig('cm.png')\n",
    "plt.show()\n",
    "\n",
    "print()\n",
    "print()\n",
    "print()\n",
    "\n",
    "from sklearn.metrics import confusion_matrix, accuracy_score\n",
    "import matplotlib.pyplot as plt \n",
    "import seaborn as sns\n",
    "import warnings\n",
    "warnings.filterwarnings('ignore')\n",
    "\n",
    "\n",
    "def plot_classification_report(report):\n",
    "    report_data = []\n",
    "    lines = report.split('\\n')\n",
    "    lines = list(filter(None, lines))\n",
    "    for line in lines[1:-3]:\n",
    "        row = {}\n",
    "        row_data = line.split()\n",
    "        row_data = list(filter(None, row_data))\n",
    "        row['class'] = row_data[0]\n",
    "        row['precision'] = float(row_data[1])\n",
    "        row['recall'] = float(row_data[2])\n",
    "        row['f1_score'] = float(row_data[3])\n",
    "        row['support'] = float(row_data[4])\n",
    "        report_data.append(row)\n",
    "    df = pd.DataFrame.from_dict(report_data)\n",
    "    df.set_index('class', inplace=True)\n",
    "    heatmap = sns.heatmap(df, annot=True, cmap='Reds', fmt='.2f')\n",
    "    heatmap.set_xlabel('\\nMetrics')\n",
    "    heatmap.set_ylabel('Class\\n')\n",
    "    heatmap.set_title('Classification Report')\n",
    "\n",
    "\n",
    "def accuracy_score(report):\n",
    "    report_data = []\n",
    "    lines = report.split('\\n')\n",
    "    lines = list(filter(None, lines))\n",
    "    for line in lines[4:-2]:\n",
    "        row_data = line.split()\n",
    "        row_data = list(filter(None, row_data))\n",
    "        return float(row_data[1])\n",
    "\n",
    "\n",
    "labels = ['Negative','Neutral','Positive']\n",
    "\n",
    "report = classification_report(test['target'], test['prediction'], target_names=labels)\n",
    "plot_classification_report(report)\n",
    "accuracy = accuracy_score(report)\n",
    "\n",
    "plt.title('Measure\\nAccuracy: {:.2f}%'.format(accuracy*100))\n",
    "plt.savefig('classification_reports.png')\n",
    "plt.show()\n"
   ]
  }
 ],
 "metadata": {
  "kernelspec": {
   "display_name": "Python 3",
   "language": "python",
   "name": "python3"
  },
  "language_info": {
   "codemirror_mode": {
    "name": "ipython",
    "version": 3
   },
   "file_extension": ".py",
   "mimetype": "text/x-python",
   "name": "python",
   "nbconvert_exporter": "python",
   "pygments_lexer": "ipython3",
   "version": "3.8.17"
  },
  "papermill": {
   "default_parameters": {},
   "duration": 6372.758069,
   "end_time": "2023-08-16T21:37:41.437824",
   "environment_variables": {},
   "exception": null,
   "input_path": "__notebook__.ipynb",
   "output_path": "__notebook__.ipynb",
   "parameters": {},
   "start_time": "2023-08-16T19:51:28.679755",
   "version": "2.4.0"
  }
 },
 "nbformat": 4,
 "nbformat_minor": 5
}
